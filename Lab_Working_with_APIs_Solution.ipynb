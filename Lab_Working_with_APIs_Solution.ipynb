{
 "cells": [
  {
   "cell_type": "markdown",
   "metadata": {},
   "source": [
    "# Lab | Working with APIs"
   ]
  },
  {
   "cell_type": "markdown",
   "metadata": {},
   "source": [
    "### Instructions\n",
    "\n",
    "Following the class example, create a function that returns the price, names of origin and arrival airports and the name of the company. Do it for all the flights between two dates that cost the same."
   ]
  },
  {
   "cell_type": "code",
   "execution_count": 13,
   "metadata": {},
   "outputs": [],
   "source": [
    "import requests\n",
    "import pandas as pd"
   ]
  },
  {
   "cell_type": "code",
   "execution_count": 7,
   "metadata": {
    "scrolled": true
   },
   "outputs": [
    {
     "name": "stdout",
     "output_type": "stream",
     "text": [
      "········\n"
     ]
    }
   ],
   "source": [
    "import getpass\n",
    "rapidAPIkey = getpass.getpass()"
   ]
  },
  {
   "cell_type": "code",
   "execution_count": 1,
   "metadata": {},
   "outputs": [],
   "source": [
    "def city_code(city_name):\n",
    "    url = \"https://skyscanner-skyscanner-flight-search-v1.p.rapidapi.com/apiservices/autosuggest/v1.0/US/USD/en-US/\"\n",
    "    params = {\"query\": city_name}\n",
    "    headers = {'x-rapidapi-host': \"skyscanner-skyscanner-flight-search-v1.p.rapidapi.com\",\n",
    "               'x-rapidapi-key': rapidAPIkey}\n",
    "    response = requests.get(url, headers = headers, params = params)\n",
    "    return response.json()[\"Places\"][0][\"PlaceId\"]"
   ]
  },
  {
   "cell_type": "code",
   "execution_count": 5,
   "metadata": {},
   "outputs": [],
   "source": [
    "def flight_prices(departure, arrival, date):\n",
    "    departure_code = city_code(departure)\n",
    "    arrival_code = city_code(arrival)\n",
    "    url = f\"https://skyscanner-skyscanner-flight-search-v1.p.rapidapi.com/apiservices/browsequotes/v1.0/US/USD/en-US/{departure_code}/{arrival_code}/{date}\"\n",
    "    params = {\"inboundpartialdate\":{date}}\n",
    "    headers = {\n",
    "    'x-rapidapi-host': \"skyscanner-skyscanner-flight-search-v1.p.rapidapi.com\",\n",
    "    'x-rapidapi-key': rapidAPIkey}\n",
    "    response = requests.get(url, headers=headers, params=params)\n",
    "    return response.json()"
   ]
  },
  {
   "cell_type": "code",
   "execution_count": 9,
   "metadata": {
    "scrolled": true
   },
   "outputs": [
    {
     "data": {
      "text/plain": [
       "{'Quotes': [{'QuoteId': 1,\n",
       "   'MinPrice': 46,\n",
       "   'Direct': True,\n",
       "   'OutboundLeg': {'CarrierIds': [1760],\n",
       "    'OriginId': 42414,\n",
       "    'DestinationId': 65747,\n",
       "    'DepartureDate': '2021-05-03T00:00:00'},\n",
       "   'QuoteDateTime': '2021-04-26T10:51:00'}],\n",
       " 'Carriers': [{'CarrierId': 1760, 'Name': 'TAP Air Portugal'}],\n",
       " 'Places': [{'Name': 'Barcelona',\n",
       "   'Type': 'Station',\n",
       "   'PlaceId': 42414,\n",
       "   'IataCode': 'BCN',\n",
       "   'SkyscannerCode': 'BCN',\n",
       "   'CityName': 'Barcelona',\n",
       "   'CityId': 'BARC',\n",
       "   'CountryName': 'Spain'},\n",
       "  {'Name': 'Lisbon',\n",
       "   'Type': 'Station',\n",
       "   'PlaceId': 65747,\n",
       "   'IataCode': 'LIS',\n",
       "   'SkyscannerCode': 'LIS',\n",
       "   'CityName': 'Lisbon',\n",
       "   'CityId': 'LISB',\n",
       "   'CountryName': 'Portugal'}],\n",
       " 'Currencies': [{'Code': 'USD',\n",
       "   'Symbol': '$',\n",
       "   'ThousandsSeparator': ',',\n",
       "   'DecimalSeparator': '.',\n",
       "   'SymbolOnLeft': True,\n",
       "   'SpaceBetweenAmountAndSymbol': False,\n",
       "   'RoundingCoefficient': 0,\n",
       "   'DecimalDigits': 2}]}"
      ]
     },
     "execution_count": 9,
     "metadata": {},
     "output_type": "execute_result"
    }
   ],
   "source": [
    "# calling the function\n",
    "flight_prices(\"Barcelona\",\"Lisbon\",\"2021-05-03\")"
   ]
  },
  {
   "cell_type": "code",
   "execution_count": 3,
   "metadata": {},
   "outputs": [],
   "source": [
    "def get_dates(start, end):\n",
    "    return pd.Series(pd.date_range(start, end,freq='d').format())"
   ]
  },
  {
   "cell_type": "code",
   "execution_count": 11,
   "metadata": {},
   "outputs": [],
   "source": [
    "# Flights for all the dates I'm interested in - Defining the function\n",
    "\n",
    "def flight_days(origin, destination, start, end):\n",
    "    dates = get_dates(start, end)\n",
    "    return {date:flight_prices(origin, destination, date) for date in dates}\n",
    "        # dictionaire: dates as key and jason objects as values"
   ]
  },
  {
   "cell_type": "code",
   "execution_count": 14,
   "metadata": {},
   "outputs": [
    {
     "data": {
      "text/plain": [
       "{'2021-04-27': {'errors': ['path param outboundDate Invalid Date Range provided 2021-04-27']},\n",
       " '2021-04-28': {'Quotes': [{'QuoteId': 1,\n",
       "    'MinPrice': 111,\n",
       "    'Direct': False,\n",
       "    'OutboundLeg': {'CarrierIds': [1816],\n",
       "     'OriginId': 40595,\n",
       "     'DestinationId': 65655,\n",
       "     'DepartureDate': '2021-04-28T00:00:00'},\n",
       "    'QuoteDateTime': '2021-04-27T13:22:00'},\n",
       "   {'QuoteId': 2,\n",
       "    'MinPrice': 333,\n",
       "    'Direct': True,\n",
       "    'OutboundLeg': {'CarrierIds': [1324],\n",
       "     'OriginId': 40595,\n",
       "     'DestinationId': 65698,\n",
       "     'DepartureDate': '2021-04-28T00:00:00'},\n",
       "    'QuoteDateTime': '2021-04-27T18:24:00'}],\n",
       "  'Carriers': [{'CarrierId': 1324, 'Name': 'KLM'},\n",
       "   {'CarrierId': 1816, 'Name': 'Air Europa'}],\n",
       "  'Places': [{'Name': 'Amsterdam',\n",
       "    'Type': 'Station',\n",
       "    'PlaceId': 40595,\n",
       "    'IataCode': 'AMS',\n",
       "    'SkyscannerCode': 'AMS',\n",
       "    'CityName': 'Amsterdam',\n",
       "    'CityId': 'AMST',\n",
       "    'CountryName': 'Netherlands'},\n",
       "   {'Name': 'London Gatwick',\n",
       "    'Type': 'Station',\n",
       "    'PlaceId': 65655,\n",
       "    'IataCode': 'LGW',\n",
       "    'SkyscannerCode': 'LGW',\n",
       "    'CityName': 'London',\n",
       "    'CityId': 'LOND',\n",
       "    'CountryName': 'United Kingdom'},\n",
       "   {'Name': 'London Heathrow',\n",
       "    'Type': 'Station',\n",
       "    'PlaceId': 65698,\n",
       "    'IataCode': 'LHR',\n",
       "    'SkyscannerCode': 'LHR',\n",
       "    'CityName': 'London',\n",
       "    'CityId': 'LOND',\n",
       "    'CountryName': 'United Kingdom'}],\n",
       "  'Currencies': [{'Code': 'USD',\n",
       "    'Symbol': '$',\n",
       "    'ThousandsSeparator': ',',\n",
       "    'DecimalSeparator': '.',\n",
       "    'SymbolOnLeft': True,\n",
       "    'SpaceBetweenAmountAndSymbol': False,\n",
       "    'RoundingCoefficient': 0,\n",
       "    'DecimalDigits': 2}]},\n",
       " '2021-04-29': {'Quotes': [{'QuoteId': 1,\n",
       "    'MinPrice': 209,\n",
       "    'Direct': True,\n",
       "    'OutboundLeg': {'CarrierIds': [1324],\n",
       "     'OriginId': 40595,\n",
       "     'DestinationId': 65698,\n",
       "     'DepartureDate': '2021-04-29T00:00:00'},\n",
       "    'QuoteDateTime': '2021-04-27T13:22:00'}],\n",
       "  'Carriers': [{'CarrierId': 1324, 'Name': 'KLM'}],\n",
       "  'Places': [{'Name': 'Amsterdam',\n",
       "    'Type': 'Station',\n",
       "    'PlaceId': 40595,\n",
       "    'IataCode': 'AMS',\n",
       "    'SkyscannerCode': 'AMS',\n",
       "    'CityName': 'Amsterdam',\n",
       "    'CityId': 'AMST',\n",
       "    'CountryName': 'Netherlands'},\n",
       "   {'Name': 'London Heathrow',\n",
       "    'Type': 'Station',\n",
       "    'PlaceId': 65698,\n",
       "    'IataCode': 'LHR',\n",
       "    'SkyscannerCode': 'LHR',\n",
       "    'CityName': 'London',\n",
       "    'CityId': 'LOND',\n",
       "    'CountryName': 'United Kingdom'}],\n",
       "  'Currencies': [{'Code': 'USD',\n",
       "    'Symbol': '$',\n",
       "    'ThousandsSeparator': ',',\n",
       "    'DecimalSeparator': '.',\n",
       "    'SymbolOnLeft': True,\n",
       "    'SpaceBetweenAmountAndSymbol': False,\n",
       "    'RoundingCoefficient': 0,\n",
       "    'DecimalDigits': 2}]},\n",
       " '2021-04-30': {'Quotes': [{'QuoteId': 1,\n",
       "    'MinPrice': 112,\n",
       "    'Direct': False,\n",
       "    'OutboundLeg': {'CarrierIds': [18],\n",
       "     'OriginId': 40595,\n",
       "     'DestinationId': 65698,\n",
       "     'DepartureDate': '2021-04-30T00:00:00'},\n",
       "    'QuoteDateTime': '2021-04-27T13:22:00'},\n",
       "   {'QuoteId': 2,\n",
       "    'MinPrice': 229,\n",
       "    'Direct': True,\n",
       "    'OutboundLeg': {'CarrierIds': [1324],\n",
       "     'OriginId': 40595,\n",
       "     'DestinationId': 65698,\n",
       "     'DepartureDate': '2021-04-30T00:00:00'},\n",
       "    'QuoteDateTime': '2021-04-27T13:22:00'}],\n",
       "  'Carriers': [{'CarrierId': 1324, 'Name': 'KLM'},\n",
       "   {'CarrierId': 18, 'Name': 'Blue Air'}],\n",
       "  'Places': [{'Name': 'Amsterdam',\n",
       "    'Type': 'Station',\n",
       "    'PlaceId': 40595,\n",
       "    'IataCode': 'AMS',\n",
       "    'SkyscannerCode': 'AMS',\n",
       "    'CityName': 'Amsterdam',\n",
       "    'CityId': 'AMST',\n",
       "    'CountryName': 'Netherlands'},\n",
       "   {'Name': 'London Heathrow',\n",
       "    'Type': 'Station',\n",
       "    'PlaceId': 65698,\n",
       "    'IataCode': 'LHR',\n",
       "    'SkyscannerCode': 'LHR',\n",
       "    'CityName': 'London',\n",
       "    'CityId': 'LOND',\n",
       "    'CountryName': 'United Kingdom'}],\n",
       "  'Currencies': [{'Code': 'USD',\n",
       "    'Symbol': '$',\n",
       "    'ThousandsSeparator': ',',\n",
       "    'DecimalSeparator': '.',\n",
       "    'SymbolOnLeft': True,\n",
       "    'SpaceBetweenAmountAndSymbol': False,\n",
       "    'RoundingCoefficient': 0,\n",
       "    'DecimalDigits': 2}]},\n",
       " '2021-05-01': {'Quotes': [{'QuoteId': 1,\n",
       "    'MinPrice': 126,\n",
       "    'Direct': False,\n",
       "    'OutboundLeg': {'CarrierIds': [838],\n",
       "     'OriginId': 40595,\n",
       "     'DestinationId': 65698,\n",
       "     'DepartureDate': '2021-05-01T00:00:00'},\n",
       "    'QuoteDateTime': '2021-04-26T19:06:00'},\n",
       "   {'QuoteId': 2,\n",
       "    'MinPrice': 161,\n",
       "    'Direct': True,\n",
       "    'OutboundLeg': {'CarrierIds': [1324],\n",
       "     'OriginId': 40595,\n",
       "     'DestinationId': 65698,\n",
       "     'DepartureDate': '2021-05-01T00:00:00'},\n",
       "    'QuoteDateTime': '2021-04-25T18:39:00'}],\n",
       "  'Carriers': [{'CarrierId': 1324, 'Name': 'KLM'},\n",
       "   {'CarrierId': 838, 'Name': 'Air France'}],\n",
       "  'Places': [{'Name': 'Amsterdam',\n",
       "    'Type': 'Station',\n",
       "    'PlaceId': 40595,\n",
       "    'IataCode': 'AMS',\n",
       "    'SkyscannerCode': 'AMS',\n",
       "    'CityName': 'Amsterdam',\n",
       "    'CityId': 'AMST',\n",
       "    'CountryName': 'Netherlands'},\n",
       "   {'Name': 'London Heathrow',\n",
       "    'Type': 'Station',\n",
       "    'PlaceId': 65698,\n",
       "    'IataCode': 'LHR',\n",
       "    'SkyscannerCode': 'LHR',\n",
       "    'CityName': 'London',\n",
       "    'CityId': 'LOND',\n",
       "    'CountryName': 'United Kingdom'}],\n",
       "  'Currencies': [{'Code': 'USD',\n",
       "    'Symbol': '$',\n",
       "    'ThousandsSeparator': ',',\n",
       "    'DecimalSeparator': '.',\n",
       "    'SymbolOnLeft': True,\n",
       "    'SpaceBetweenAmountAndSymbol': False,\n",
       "    'RoundingCoefficient': 0,\n",
       "    'DecimalDigits': 2}]},\n",
       " '2021-05-02': {'Quotes': [{'QuoteId': 1,\n",
       "    'MinPrice': 62,\n",
       "    'Direct': False,\n",
       "    'OutboundLeg': {'CarrierIds': [1090],\n",
       "     'OriginId': 40595,\n",
       "     'DestinationId': 82398,\n",
       "     'DepartureDate': '2021-05-02T00:00:00'},\n",
       "    'QuoteDateTime': '2021-04-27T14:37:00'},\n",
       "   {'QuoteId': 2,\n",
       "    'MinPrice': 161,\n",
       "    'Direct': True,\n",
       "    'OutboundLeg': {'CarrierIds': [1324],\n",
       "     'OriginId': 40595,\n",
       "     'DestinationId': 65698,\n",
       "     'DepartureDate': '2021-05-02T00:00:00'},\n",
       "    'QuoteDateTime': '2021-04-27T14:37:00'}],\n",
       "  'Carriers': [{'CarrierId': 1324, 'Name': 'KLM'},\n",
       "   {'CarrierId': 1090, 'Name': 'Ryanair'}],\n",
       "  'Places': [{'Name': 'Amsterdam',\n",
       "    'Type': 'Station',\n",
       "    'PlaceId': 40595,\n",
       "    'IataCode': 'AMS',\n",
       "    'SkyscannerCode': 'AMS',\n",
       "    'CityName': 'Amsterdam',\n",
       "    'CityId': 'AMST',\n",
       "    'CountryName': 'Netherlands'},\n",
       "   {'Name': 'London Heathrow',\n",
       "    'Type': 'Station',\n",
       "    'PlaceId': 65698,\n",
       "    'IataCode': 'LHR',\n",
       "    'SkyscannerCode': 'LHR',\n",
       "    'CityName': 'London',\n",
       "    'CityId': 'LOND',\n",
       "    'CountryName': 'United Kingdom'},\n",
       "   {'Name': 'London Stansted',\n",
       "    'Type': 'Station',\n",
       "    'PlaceId': 82398,\n",
       "    'IataCode': 'STN',\n",
       "    'SkyscannerCode': 'STN',\n",
       "    'CityName': 'London',\n",
       "    'CityId': 'LOND',\n",
       "    'CountryName': 'United Kingdom'}],\n",
       "  'Currencies': [{'Code': 'USD',\n",
       "    'Symbol': '$',\n",
       "    'ThousandsSeparator': ',',\n",
       "    'DecimalSeparator': '.',\n",
       "    'SymbolOnLeft': True,\n",
       "    'SpaceBetweenAmountAndSymbol': False,\n",
       "    'RoundingCoefficient': 0,\n",
       "    'DecimalDigits': 2}]}}"
      ]
     },
     "execution_count": 14,
     "metadata": {},
     "output_type": "execute_result"
    }
   ],
   "source": [
    "flight_days(\"Amsterdam\", \"London\", \"2021-04-27\", \"2021-05-02\")"
   ]
  },
  {
   "cell_type": "code",
   "execution_count": 15,
   "metadata": {},
   "outputs": [],
   "source": [
    "# Lowest price from the dates and origin/dest we defined before -> function\n",
    "\n",
    "def lowest_price(origin, destination, start, end):\n",
    "    flights = flight_days(origin, destination, start, end)\n",
    "    prices = {date:min([quote[\"MinPrice\"] for quote in flights[date][\"Quotes\"]]) for date in flights for quote in flights[date][\"Quotes\"]}\n",
    "    \n",
    "    return prices\n",
    "    # to return the date with the lowest price->\n",
    "#->    return min(prices, key = prices.get)"
   ]
  },
  {
   "cell_type": "code",
   "execution_count": null,
   "metadata": {},
   "outputs": [],
   "source": [
    "# Prices equal between 2 flights\n",
    "\n",
    "def equal_prices ()"
   ]
  },
  {
   "cell_type": "code",
   "execution_count": 16,
   "metadata": {},
   "outputs": [],
   "source": [
    "# Name of the company -> function"
   ]
  },
  {
   "cell_type": "code",
   "execution_count": null,
   "metadata": {},
   "outputs": [],
   "source": [
    "# "
   ]
  }
 ],
 "metadata": {
  "kernelspec": {
   "display_name": "Python 3",
   "language": "python",
   "name": "python3"
  },
  "language_info": {
   "codemirror_mode": {
    "name": "ipython",
    "version": 3
   },
   "file_extension": ".py",
   "mimetype": "text/x-python",
   "name": "python",
   "nbconvert_exporter": "python",
   "pygments_lexer": "ipython3",
   "version": "3.8.5"
  }
 },
 "nbformat": 4,
 "nbformat_minor": 4
}
